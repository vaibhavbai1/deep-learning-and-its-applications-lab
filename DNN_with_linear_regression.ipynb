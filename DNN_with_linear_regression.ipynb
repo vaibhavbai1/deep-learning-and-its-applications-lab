{
  "nbformat": 4,
  "nbformat_minor": 0,
  "metadata": {
    "colab": {
      "provenance": []
    },
    "kernelspec": {
      "name": "python3",
      "display_name": "Python 3"
    },
    "language_info": {
      "name": "python"
    }
  },
  "cells": [
    {
      "cell_type": "code",
      "execution_count": 1,
      "metadata": {
        "id": "d7mXKaGpQpvf"
      },
      "outputs": [],
      "source": [
        "#!/usr/bin/env python\n",
        "# coding: utf-8"
      ]
    },
    {
      "cell_type": "markdown",
      "source": [
        "# deep neural network model start with linear regression using **single variable**"
      ],
      "metadata": {
        "id": "IwVwIiy0REEk"
      }
    },
    {
      "cell_type": "code",
      "source": [
        "import numpy as np\n",
        "import tensorflow as tf\n",
        "from tensorflow.keras.models import Sequential\n",
        "from tensorflow.keras.layers import Dense\n",
        "from sklearn.datasets import load_iris\n"
      ],
      "metadata": {
        "id": "M4C4NqxsQ1Xd"
      },
      "execution_count": 2,
      "outputs": []
    },
    {
      "cell_type": "code",
      "source": [
        "# Generate some sample data\n",
        "np.random.seed(0)\n",
        "X = np.random.rand(100, 1)  # Input feature\n",
        "y = 2 * X + 1 + 0.1 * np.random.randn(100, 1)  # True labels with some noise"
      ],
      "metadata": {
        "id": "6xUgi_aNRRMF"
      },
      "execution_count": 3,
      "outputs": []
    },
    {
      "cell_type": "code",
      "source": [
        "model = Sequential()\n",
        "model.add(Dense(32, input_shape=(1,), activation='relu'))  # Hidden layer 1\n",
        "model.add(Dense(16, activation='relu'))                   # Hidden layer 2\n",
        "model.add(Dense(1))                                       # Output layer\n",
        "\n",
        "# Compile the model\n",
        "model.compile(optimizer='adam', loss='mean_squared_error')\n",
        "\n",
        "# Train the model\n",
        "model.fit(X, y, epochs=100, verbose=0)"
      ],
      "metadata": {
        "colab": {
          "base_uri": "https://localhost:8080/"
        },
        "id": "PgEACqGNRTUA",
        "outputId": "5ef9932d-8366-4e3d-9aaa-5431addd76fd"
      },
      "execution_count": 9,
      "outputs": [
        {
          "output_type": "execute_result",
          "data": {
            "text/plain": [
              "<keras.src.callbacks.History at 0x7e1f2190f4f0>"
            ]
          },
          "metadata": {},
          "execution_count": 9
        }
      ]
    },
    {
      "cell_type": "code",
      "source": [
        "# Make predictions\n",
        "new_X_reg = np.array([[0.6], [0.8]])\n",
        "predictions_reg = model.predict(new_X_reg)\n",
        "print(\"Regression predictions:\")\n",
        "print(predictions_reg)\n"
      ],
      "metadata": {
        "colab": {
          "base_uri": "https://localhost:8080/"
        },
        "id": "UErVVt2MRVyP",
        "outputId": "567332fe-98ce-4377-bb1c-49aaf90cfe9b"
      },
      "execution_count": 10,
      "outputs": [
        {
          "output_type": "stream",
          "name": "stdout",
          "text": [
            "1/1 [==============================] - 0s 54ms/step\n",
            "Regression predictions:\n",
            "[[2.2126381]\n",
            " [2.5962598]]\n"
          ]
        }
      ]
    },
    {
      "cell_type": "markdown",
      "source": [
        "# deep neural network model start with linear regression using **multiple variable**"
      ],
      "metadata": {
        "id": "Y8NTLlJQSUr3"
      }
    },
    {
      "cell_type": "code",
      "source": [
        "import pandas as pd\n",
        "from sklearn.model_selection import train_test_split\n",
        "from sklearn.preprocessing import StandardScaler"
      ],
      "metadata": {
        "id": "H8tQc7AORhIc"
      },
      "execution_count": 29,
      "outputs": []
    },
    {
      "cell_type": "code",
      "source": [
        "# Load the data\n",
        "prices_df = pd.read_csv('prices-split-adjusted.csv')\n",
        "fundamentals_df = pd.read_csv('fundamentals.csv')"
      ],
      "metadata": {
        "id": "g-tm38zySNh9"
      },
      "execution_count": 30,
      "outputs": []
    },
    {
      "cell_type": "code",
      "source": [
        "# Merge relevant columns from fundamentals into the prices dataframe\n",
        "data_df = pd.merge(prices_df, fundamentals_df[['Ticker Symbol']], how='inner', left_on='symbol', right_on='Ticker Symbol')"
      ],
      "metadata": {
        "id": "aXfDF8FUShCd"
      },
      "execution_count": 31,
      "outputs": []
    },
    {
      "cell_type": "code",
      "source": [
        "# Choose the features and target\n",
        "X = data_df[['open', 'low', 'high']].values\n",
        "y = data_df['close'].values"
      ],
      "metadata": {
        "id": "IViXFLxbTbut"
      },
      "execution_count": 32,
      "outputs": []
    },
    {
      "cell_type": "code",
      "source": [
        "# Split the data into train and test sets\n",
        "X_train, X_test, y_train, y_test = train_test_split(X, y, test_size=0.2, random_state=42)"
      ],
      "metadata": {
        "id": "5FS17fqITd1U"
      },
      "execution_count": 33,
      "outputs": []
    },
    {
      "cell_type": "code",
      "source": [
        "# Standardize the features\n",
        "scaler = StandardScaler()\n",
        "X_train_scaled = scaler.fit_transform(X_train)\n",
        "X_test_scaled = scaler.transform(X_test)"
      ],
      "metadata": {
        "id": "apwXkTDBTgVN"
      },
      "execution_count": 34,
      "outputs": []
    },
    {
      "cell_type": "code",
      "source": [
        "# Build a neural network regression model\n",
        "model2 = Sequential()\n",
        "model2.add(Dense(32, input_dim=X_train_scaled.shape[1], activation='relu'))\n",
        "model2.add(Dense(16, activation='relu'))\n",
        "model2.add(Dense(1))  # Output layer for regression"
      ],
      "metadata": {
        "id": "n43kMl5nTiD8"
      },
      "execution_count": 35,
      "outputs": []
    },
    {
      "cell_type": "code",
      "source": [
        "model2.compile(optimizer='adam', loss='mean_squared_error')"
      ],
      "metadata": {
        "id": "CQZZ9PUATkZ-"
      },
      "execution_count": 36,
      "outputs": []
    },
    {
      "cell_type": "code",
      "source": [
        "# Train the model\n",
        "model2.fit(X_train_scaled, y_train, epochs=5, batch_size=32, verbose=1)"
      ],
      "metadata": {
        "colab": {
          "base_uri": "https://localhost:8080/"
        },
        "id": "hszCuwhlTom1",
        "outputId": "1d9bf2ea-019a-4bad-8a09-39d6c40e3059"
      },
      "execution_count": 38,
      "outputs": [
        {
          "output_type": "stream",
          "name": "stdout",
          "text": [
            "Epoch 1/5\n",
            "75849/75849 [==============================] - 152s 2ms/step - loss: 0.6611\n",
            "Epoch 2/5\n",
            "75849/75849 [==============================] - 149s 2ms/step - loss: 0.6040\n",
            "Epoch 3/5\n",
            "75849/75849 [==============================] - 147s 2ms/step - loss: 0.5660\n",
            "Epoch 4/5\n",
            "75849/75849 [==============================] - 148s 2ms/step - loss: 0.5482\n",
            "Epoch 5/5\n",
            "75849/75849 [==============================] - 147s 2ms/step - loss: 0.5357\n"
          ]
        },
        {
          "output_type": "execute_result",
          "data": {
            "text/plain": [
              "<keras.src.callbacks.History at 0x7e1f0de267a0>"
            ]
          },
          "metadata": {},
          "execution_count": 38
        }
      ]
    },
    {
      "cell_type": "code",
      "source": [
        "# Evaluate the model on the test set\n",
        "loss = model2.evaluate(X_test_scaled, y_test, verbose=0)\n",
        "print(f\"Mean Squared Error on Test Set: {loss:.4f}\")"
      ],
      "metadata": {
        "colab": {
          "base_uri": "https://localhost:8080/"
        },
        "id": "X8rtrIR-TrHu",
        "outputId": "7c2e9834-cbe8-4c3c-c1f6-a3a4a3d7b4e5"
      },
      "execution_count": 39,
      "outputs": [
        {
          "output_type": "stream",
          "name": "stdout",
          "text": [
            "Mean Squared Error on Test Set: 0.4332\n"
          ]
        }
      ]
    },
    {
      "cell_type": "code",
      "source": [
        "# Make predictions on the test set\n",
        "y_pred = model2.predict(X_test_scaled)\n",
        "\n",
        "# Print some example predictions and actual values\n",
        "for i in range(5):\n",
        "    print(f\"Predicted: {y_pred[i][0]:.4f}  |  Actual: {y_test[i]:.4f}\")\n",
        "\n",
        "# Calculate Mean Squared Error for the predictions\n",
        "mse = np.mean((y_pred - y_test) **2)\n",
        "print(f\"\\nMean Squared Error: {mse:.4f}\")\n"
      ],
      "metadata": {
        "colab": {
          "base_uri": "https://localhost:8080/",
          "height": 245
        },
        "id": "7eZf5hynULSs",
        "outputId": "d79640ff-4fbe-4733-9a35-df7f2ee04e59"
      },
      "execution_count": 2,
      "outputs": [
        {
          "output_type": "error",
          "ename": "NameError",
          "evalue": "ignored",
          "traceback": [
            "\u001b[0;31m---------------------------------------------------------------------------\u001b[0m",
            "\u001b[0;31mNameError\u001b[0m                                 Traceback (most recent call last)",
            "\u001b[0;32m<ipython-input-2-8dfeebf500b4>\u001b[0m in \u001b[0;36m<cell line: 2>\u001b[0;34m()\u001b[0m\n\u001b[1;32m      1\u001b[0m \u001b[0;31m# Make predictions on the test set\u001b[0m\u001b[0;34m\u001b[0m\u001b[0;34m\u001b[0m\u001b[0m\n\u001b[0;32m----> 2\u001b[0;31m \u001b[0my_pred\u001b[0m \u001b[0;34m=\u001b[0m \u001b[0mmodel2\u001b[0m\u001b[0;34m.\u001b[0m\u001b[0mpredict\u001b[0m\u001b[0;34m(\u001b[0m\u001b[0mX_test_scaled\u001b[0m\u001b[0;34m)\u001b[0m\u001b[0;34m\u001b[0m\u001b[0;34m\u001b[0m\u001b[0m\n\u001b[0m\u001b[1;32m      3\u001b[0m \u001b[0;34m\u001b[0m\u001b[0m\n\u001b[1;32m      4\u001b[0m \u001b[0;31m# Print some example predictions and actual values\u001b[0m\u001b[0;34m\u001b[0m\u001b[0;34m\u001b[0m\u001b[0m\n\u001b[1;32m      5\u001b[0m \u001b[0;32mfor\u001b[0m \u001b[0mi\u001b[0m \u001b[0;32min\u001b[0m \u001b[0mrange\u001b[0m\u001b[0;34m(\u001b[0m\u001b[0;36m5\u001b[0m\u001b[0;34m)\u001b[0m\u001b[0;34m:\u001b[0m\u001b[0;34m\u001b[0m\u001b[0;34m\u001b[0m\u001b[0m\n",
            "\u001b[0;31mNameError\u001b[0m: name 'model2' is not defined"
          ]
        }
      ]
    },
    {
      "cell_type": "code",
      "source": [],
      "metadata": {
        "id": "RgZ_XY3nULw7"
      },
      "execution_count": null,
      "outputs": []
    }
  ]
}