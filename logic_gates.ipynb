{
  "nbformat": 4,
  "nbformat_minor": 0,
  "metadata": {
    "colab": {
      "provenance": []
    },
    "kernelspec": {
      "name": "python3",
      "display_name": "Python 3"
    },
    "language_info": {
      "name": "python"
    }
  },
  "cells": [
    {
      "cell_type": "code",
      "source": [
        "import numpy as np\n",
        "import pandas as pd\n",
        "\n",
        "def sigmoid(x):\n",
        "    return 1 / (1 + np.exp(-x))\n",
        "\n",
        "def neural_network(X, y):\n",
        "    learning_rate = 0.1\n",
        "    W1 = np.random.rand(2, 2)\n",
        "    W2 = np.random.rand(2, 1)\n",
        "\n",
        "    for epoch in range(10000):\n",
        "        hidden = sigmoid(np.dot(X, W1))\n",
        "        output = sigmoid(np.dot(hidden, W2))\n",
        "\n",
        "        error = (y - output)\n",
        "\n",
        "        delta2 = 2 * error * (output * (1 - output))\n",
        "        delta1 = delta2.dot(W2.T) * (hidden * (1 - hidden))\n",
        "\n",
        "        W2 += learning_rate * hidden.T.dot(delta2)\n",
        "        W1 += learning_rate * X.T.dot(delta1)\n",
        "\n",
        "    return {\n",
        "        \"output\": np.round(output).flatten(),\n",
        "        \"hidden\": hidden,\n",
        "        \"W1\": W1, \"W2\": W2\n",
        "    }"
      ],
      "metadata": {
        "id": "tUqdxyKEesaq"
      },
      "execution_count": 18,
      "outputs": []
    },
    {
      "cell_type": "code",
      "source": [
        "\n",
        "from functools import partial\n",
        "\n",
        "def nn_predict(W1, W2, X):\n",
        "    return sigmoid(np.dot(sigmoid(np.dot(X, W1)), W2))"
      ],
      "metadata": {
        "id": "2w1tMiYnewO-"
      },
      "execution_count": 19,
      "outputs": []
    },
    {
      "cell_type": "code",
      "source": [
        "def get_df(X, y, preds):\n",
        "    preds=np.array(preds)\n",
        "    preds=preds.tolist()\n",
        "    preds=sum(preds, [])\n",
        "    preds=[round(x) for x in preds]\n",
        "    df = pd.DataFrame(X, columns=['input1', 'input2'])\n",
        "    df['actual'] = y\n",
        "    df['predicted'] = preds\n",
        "    return df.astype(int)"
      ],
      "metadata": {
        "id": "wSAMNqCie0N9"
      },
      "execution_count": 38,
      "outputs": []
    },
    {
      "cell_type": "code",
      "source": [
        "np.random.seed(47)\n",
        "X = np.array([[0, 0], [0, 1], [1, 0], [1, 1]])\n",
        "GATES = {\n",
        "    \"OR\": [0, 1, 1, 1],\n",
        "    \"AND\": [0, 0, 0, 1],\n",
        "    \"XOR\": [0, 1, 1, 0],\n",
        "    \"NOR\": [1, 0, 0, 0],\n",
        "    \"NAND\": [1, 1, 1, 0],\n",
        "    \"XNOR\": [1, 0, 0, 1],\n",
        "}\n",
        "\n",
        "for gate in GATES:\n",
        "    y = np.array([GATES[gate]]).T\n",
        "    result = neural_network(X, y)\n",
        "    result = nn_predict(result['W1'],result['W2'],X)\n",
        "    print(f'Truth Table of {gate}')\n",
        "    print(get_df(X, GATES[gate], result))\n",
        "    print()"
      ],
      "metadata": {
        "colab": {
          "base_uri": "https://localhost:8080/"
        },
        "id": "BV_mCftye2_d",
        "outputId": "0981eb6e-eb50-46df-daff-12cbb83934ea"
      },
      "execution_count": 39,
      "outputs": [
        {
          "output_type": "stream",
          "name": "stdout",
          "text": [
            "Truth Table of OR\n",
            "   input1  input2  actual  predicted\n",
            "0       0       0       0          0\n",
            "1       0       1       1          1\n",
            "2       1       0       1          1\n",
            "3       1       1       1          1\n",
            "\n",
            "Truth Table of AND\n",
            "   input1  input2  actual  predicted\n",
            "0       0       0       0          0\n",
            "1       0       1       0          0\n",
            "2       1       0       0          0\n",
            "3       1       1       1          1\n",
            "\n",
            "Truth Table of XOR\n",
            "   input1  input2  actual  predicted\n",
            "0       0       0       0          0\n",
            "1       0       1       1          1\n",
            "2       1       0       1          1\n",
            "3       1       1       0          0\n",
            "\n",
            "Truth Table of NOR\n",
            "   input1  input2  actual  predicted\n",
            "0       0       0       1          1\n",
            "1       0       1       0          0\n",
            "2       1       0       0          0\n",
            "3       1       1       0          0\n",
            "\n",
            "Truth Table of NAND\n",
            "   input1  input2  actual  predicted\n",
            "0       0       0       1          1\n",
            "1       0       1       1          1\n",
            "2       1       0       1          1\n",
            "3       1       1       0          0\n",
            "\n",
            "Truth Table of XNOR\n",
            "   input1  input2  actual  predicted\n",
            "0       0       0       1          1\n",
            "1       0       1       0          0\n",
            "2       1       0       0          0\n",
            "3       1       1       1          1\n",
            "\n"
          ]
        }
      ]
    },
    {
      "cell_type": "code",
      "source": [],
      "metadata": {
        "id": "XeBJTd5te79O"
      },
      "execution_count": 21,
      "outputs": []
    }
  ]
}